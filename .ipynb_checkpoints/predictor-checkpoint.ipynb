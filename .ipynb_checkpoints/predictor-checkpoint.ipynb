{
 "cells": [
  {
   "cell_type": "code",
   "execution_count": 11,
   "metadata": {},
   "outputs": [],
   "source": [
    "## Dependencies\n",
    "import joblib\n",
    "import nltk\n",
    "from sklearn.feature_extraction.text import CountVectorizer\n",
    "from nltk.corpus import stopwords\n",
    "from nltk.tokenize import word_tokenize\n",
    "\n",
    "pac = joblib.load('fakenewsfinder.pkl')\n",
    "cv = joblib.load('countvectorizer')\n",
    "\n",
    "token = word_tokenize(testinput)\n",
    "\n",
    "stop_words = set(stopwords.words('english'))\n",
    "filtered = []\n",
    "\n",
    "for i in token:\n",
    "    if i not in stop_words:\n",
    "        filtered.append(i)\n",
    "filtered = ' '.join(filtered)\n",
    "feature = [filtered]\n",
    "ftm = cv.transform(feature)\n",
    "pac.predict(ftm)"
   ]
  },
  {
   "cell_type": "code",
   "execution_count": 12,
   "metadata": {},
   "outputs": [],
   "source": []
  },
  {
   "cell_type": "code",
   "execution_count": 13,
   "metadata": {},
   "outputs": [
    {
     "data": {
      "text/plain": [
       "['TIRANA , Albania ( AP ) — Albania offered NATO naval base effort highlight small country ’ value alliance “ difficult times , ” prime minister ’ office said Thursday . Prime Minister Edi Rama said Pashaliman naval base , 180 kilometers ( 110 miles ) south capital Tirana , could “ added value ” alliance prepared project renovation . “ In dangerous times I believe general may consider NATO ’ naval base Albania , ” Rama said speech Wednesday . Albania , became NATO member 2009 , joined United States European Union denouncing Russia ’ war Ukraine . The Pashaliman base located Vlora Bay built 1950s Soviet Union brought 12 submarines , making naval base Mediterranean . Following breakdown Tirana-Moscow ties 1961 , Pashaliman remained naval base sheltering four remaining submarines small military ships . The base looted , including material submarines , anarchic year 1997 Albania Europe ’ then-poorest population lost life savings failed pyramid investment schemes . Three submarines sold scrap fourth one remains , government considering whether turn museum . Pashaliman renovated Turkey since used naval base military ships patrolling Ionian Adriatic Seas . NATO also started work upgrade Albania ’ communist-era Kucove Air Base , 85 kilometers ( 53 miles ) south capital Tirana , allow used alliance operations .']"
      ]
     },
     "execution_count": 13,
     "metadata": {},
     "output_type": "execute_result"
    }
   ],
   "source": []
  },
  {
   "cell_type": "code",
   "execution_count": 14,
   "metadata": {},
   "outputs": [
    {
     "data": {
      "text/plain": [
       "<1x121589 sparse matrix of type '<class 'numpy.int64'>'\n",
       "\twith 121 stored elements in Compressed Sparse Row format>"
      ]
     },
     "execution_count": 14,
     "metadata": {},
     "output_type": "execute_result"
    }
   ],
   "source": []
  },
  {
   "cell_type": "code",
   "execution_count": null,
   "metadata": {
    "scrolled": true
   },
   "outputs": [],
   "source": []
  },
  {
   "cell_type": "code",
   "execution_count": 15,
   "metadata": {},
   "outputs": [
    {
     "data": {
      "text/plain": [
       "array(['0'], dtype='<U1')"
      ]
     },
     "execution_count": 15,
     "metadata": {},
     "output_type": "execute_result"
    }
   ],
   "source": []
  },
  {
   "cell_type": "code",
   "execution_count": 16,
   "metadata": {},
   "outputs": [
    {
     "ename": "NameError",
     "evalue": "name 'tf_df_matrix' is not defined",
     "output_type": "error",
     "traceback": [
      "\u001b[1;31m---------------------------------------------------------------------------\u001b[0m",
      "\u001b[1;31mNameError\u001b[0m                                 Traceback (most recent call last)",
      "\u001b[1;32m<ipython-input-16-0a25e985b456>\u001b[0m in \u001b[0;36m<module>\u001b[1;34m\u001b[0m\n\u001b[1;32m----> 1\u001b[1;33m \u001b[0mtf_df_matrix\u001b[0m\u001b[1;33m\u001b[0m\u001b[1;33m\u001b[0m\u001b[0m\n\u001b[0m",
      "\u001b[1;31mNameError\u001b[0m: name 'tf_df_matrix' is not defined"
     ]
    }
   ],
   "source": []
  },
  {
   "cell_type": "code",
   "execution_count": null,
   "metadata": {},
   "outputs": [],
   "source": []
  }
 ],
 "metadata": {
  "kernelspec": {
   "display_name": "Python [conda env:pythondata] *",
   "language": "python",
   "name": "conda-env-pythondata-py"
  },
  "language_info": {
   "codemirror_mode": {
    "name": "ipython",
    "version": 3
   },
   "file_extension": ".py",
   "mimetype": "text/x-python",
   "name": "python",
   "nbconvert_exporter": "python",
   "pygments_lexer": "ipython3",
   "version": "3.6.10"
  }
 },
 "nbformat": 4,
 "nbformat_minor": 4
}
