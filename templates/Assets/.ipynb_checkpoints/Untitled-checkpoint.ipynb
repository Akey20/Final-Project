{
 "cells": [
  {
   "cell_type": "code",
   "execution_count": 3,
   "metadata": {},
   "outputs": [],
   "source": [
    "\n",
    "# Python program to convert\n",
    "# CSV to HTML Table\n",
    " \n",
    " \n",
    "import pandas as pd\n",
    " \n",
    "# to read csv file named \"samplee\"\n",
    "a = pd.read_csv(\"Fake.csv\")\n",
    " \n",
    "a = a.head(5)\n",
    "# to save as html file\n",
    "# named as \"Table\"\n",
    "a.to_html(\"Fake.html\")\n",
    " \n",
    "# assign it to a\n",
    "# variable (string)\n",
    "# html_file = a.to_html()\n",
    "\n",
    "b = pd.read_csv(\"True.csv\")\n",
    "b = b.head(5)\n",
    "b.to_html(\"True.html\")"
   ]
  },
  {
   "cell_type": "code",
   "execution_count": null,
   "metadata": {},
   "outputs": [],
   "source": []
  }
 ],
 "metadata": {
  "kernelspec": {
   "display_name": "Python [conda env:PythonData] *",
   "language": "python",
   "name": "conda-env-PythonData-py"
  },
  "language_info": {
   "codemirror_mode": {
    "name": "ipython",
    "version": 3
   },
   "file_extension": ".py",
   "mimetype": "text/x-python",
   "name": "python",
   "nbconvert_exporter": "python",
   "pygments_lexer": "ipython3",
   "version": "3.6.10"
  }
 },
 "nbformat": 4,
 "nbformat_minor": 4
}
